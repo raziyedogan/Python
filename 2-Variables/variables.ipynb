{
 "cells": [
  {
   "cell_type": "markdown",
   "id": "68be8cd2",
   "metadata": {},
   "source": [
    "## DEĞİŞKENLER"
   ]
  },
  {
   "cell_type": "markdown",
   "id": "7917d351",
   "metadata": {},
   "source": [
    "**Değişken** ile bir değerin hafızada tutulması sağlanır. Böylelikle değişken ile değerin kalıcılığı sağlanır ve istendiği zaman değişken aracılığı ile değere erişim sağlanabilir. Aslında değişken, hafızada değerin tutulduğu adresin ismidir. Alt alta bir sürü kutu düşünün. Bu yapı hafızadır. Mesela \"vrb=2\" ifadesinde, 2 değeri bu kutulardan birisinin içerisine yazılmıştır. Bu kutunun ismi ise \"vrb\" dir."
   ]
  },
  {
   "cell_type": "markdown",
   "id": "370ba62d",
   "metadata": {},
   "source": [
    "**Atama** ise, oluşturulan değişkene bir değer vermektir. Değişkene değer verme işlemine atama denir. \n",
    "\n",
    "= sembolünün sol tarafına değişken ismi yazılır. Sağ tarafına bu değişkende tutulmak istenen değer yazılır. Mesela abc isimli değişkene 45.9 değerini atayalım: abc=45.9 şeklindedir. Bu işlem ile 45.9 değeri artık hafızada tutulmaktadır ve hafızada tuttuğu adrese de abc ismi verildi. "
   ]
  },
  {
   "cell_type": "code",
   "execution_count": 1,
   "id": "9b3ce4fe",
   "metadata": {},
   "outputs": [
    {
     "name": "stdout",
     "output_type": "stream",
     "text": [
      "hello\n"
     ]
    }
   ],
   "source": [
    "#string değer tutan değişken:\n",
    "s = \"hello\"\n",
    "print(s)"
   ]
  },
  {
   "cell_type": "code",
   "execution_count": 2,
   "id": "8778b8fd",
   "metadata": {},
   "outputs": [
    {
     "name": "stdout",
     "output_type": "stream",
     "text": [
      "6.5\n"
     ]
    }
   ],
   "source": [
    "#float değer tutan değişken:\n",
    "f = 6.5\n",
    "print(f)"
   ]
  },
  {
   "cell_type": "code",
   "execution_count": 3,
   "id": "428f7b9b",
   "metadata": {},
   "outputs": [
    {
     "name": "stdout",
     "output_type": "stream",
     "text": [
      "5\n"
     ]
    }
   ],
   "source": [
    "#int değer tutan değişken:\n",
    "x = 5\n",
    "print(x)"
   ]
  },
  {
   "cell_type": "markdown",
   "id": "0fdc4035",
   "metadata": {},
   "source": [
    "## DEĞİŞKEN İSİMLERİ"
   ]
  },
  {
   "cell_type": "markdown",
   "id": "52b7a3a3",
   "metadata": {},
   "source": [
    "Değişkene isim verirken bazı durumlara dikkat etmekte fayda vardır.\n",
    "\n",
    "    Değişkene verilen isim anlamlı olmalıdır. Değişkeni oluşturma amacınız ile alakalı bir isim vermekte fayda vardır.\n",
    "    \n",
    "    Genelde snake_case isimlendirme kullanılır. snake_case: Mesela standart sapma değerini tutacak bir değişken tanımlayacağız. Değişken ismi \"standart sapma\" şeklinde olamaz, boşluk kullanılamaz. \"standart_sapma\" şeklinde kullanım uygundur.\n",
    "    \n",
    "    Değişken isimleri sayı ile başlayamaz.\n",
    "    \n",
    "    Değişken isminde boşluk karakteri olamaz. Yukarıdaki standart sapma değişkeni gibi.\n",
    "    \n",
    "    Özel karakter bulunamaz. Mesela: @, -, +, * vs.\n",
    "    \n",
    "    Değişken ismi keyword (anahtar kelime) içeremez. Python'ın dil yapısının barındırdığı kelimeler var. Bu kelimeler değişken ismi olarak kullanılamaz. Bazı keyword'ler: for, True, return, try...\n",
    "    \n",
    "    Değişken isimlerinde türkçe karakter kullanılmamalıdır."
   ]
  },
  {
   "cell_type": "markdown",
   "id": "141c9a04",
   "metadata": {},
   "source": [
    "## Python Veri Tipleri\n",
    "\n",
    "Text (metin) tipi: str\n",
    "\n",
    "Numerik (sayısal) Tipler: int, float\n",
    "\n",
    "Liste Tipleri: list, tuple, range\n",
    "\n",
    "İlişki Tipi: dict\n",
    "\n",
    "Küme Tipi: set\n",
    "\n",
    "Boolean Tipi: bool"
   ]
  },
  {
   "cell_type": "code",
   "execution_count": 5,
   "id": "e7750303",
   "metadata": {},
   "outputs": [
    {
     "name": "stdout",
     "output_type": "stream",
     "text": [
      "[1, 2, 3, 4]\n"
     ]
    },
    {
     "data": {
      "text/plain": [
       "list"
      ]
     },
     "execution_count": 5,
     "metadata": {},
     "output_type": "execute_result"
    }
   ],
   "source": [
    "#liste tipi:\n",
    "liste = [1,2,3,4]\n",
    "print(liste)\n",
    "type(liste)"
   ]
  },
  {
   "cell_type": "markdown",
   "id": "2654e3c6",
   "metadata": {},
   "source": [
    "Tuple: Birden fazla veri türünü bir arada bulundurabilen virgüllerle veya parantez ile gösterilen immutable(değiştirilemeyen) veri tipleridir."
   ]
  },
  {
   "cell_type": "code",
   "execution_count": 8,
   "id": "94ea7b90",
   "metadata": {},
   "outputs": [
    {
     "name": "stdout",
     "output_type": "stream",
     "text": [
      "('A', 'B', 'C')\n",
      "<class 'tuple'>\n"
     ]
    }
   ],
   "source": [
    "#tuple:\n",
    "uclu = ('A', 'B', 'C')\n",
    "print(uclu)\n",
    "print(type(uclu))"
   ]
  },
  {
   "cell_type": "code",
   "execution_count": 13,
   "id": "3014d456",
   "metadata": {},
   "outputs": [
    {
     "name": "stdout",
     "output_type": "stream",
     "text": [
      "range(0, 10)\n",
      "0\n",
      "1\n",
      "2\n",
      "3\n",
      "4\n",
      "5\n",
      "6\n",
      "7\n",
      "8\n",
      "9\n",
      "\n",
      "\n",
      "0\n",
      "1\n",
      "2\n",
      "3\n",
      "4\n",
      "5\n",
      "6\n",
      "7\n",
      "8\n",
      "9\n"
     ]
    }
   ],
   "source": [
    "#range:\n",
    "onluk = range(10)\n",
    "print(onluk)\n",
    "\n",
    "#değerleri alalım:\n",
    "\n",
    "for x in onluk:\n",
    "    print(x)\n",
    "    \n",
    "#ya da:\n",
    "print(\"\\n\")\n",
    "for x in range(10):\n",
    "    print(x)"
   ]
  },
  {
   "cell_type": "code",
   "execution_count": 15,
   "id": "657a1c5c",
   "metadata": {},
   "outputs": [
    {
     "name": "stdout",
     "output_type": "stream",
     "text": [
      "{'ad': 'Raziye', 'soyad': 'Dogan', 'programlama dili': 'Python'}\n"
     ]
    },
    {
     "data": {
      "text/plain": [
       "dict"
      ]
     },
     "execution_count": 15,
     "metadata": {},
     "output_type": "execute_result"
    }
   ],
   "source": [
    "#dictionary:\n",
    "sozluk = {\n",
    "    \"ad\": \"Raziye\",\n",
    "    \"soyad\": \"Dogan\",\n",
    "    \"programlama dili\": \"Python\"\n",
    "}\n",
    "print(sozluk)\n",
    "type(sozluk)"
   ]
  },
  {
   "cell_type": "code",
   "execution_count": 16,
   "id": "affb2007",
   "metadata": {},
   "outputs": [
    {
     "name": "stdout",
     "output_type": "stream",
     "text": [
      "{1, 2, 3, 4, 5}\n"
     ]
    }
   ],
   "source": [
    "#set:\n",
    "kume = set([1,2,3,2,4,1,3,5,4])\n",
    "print(kume)"
   ]
  },
  {
   "cell_type": "markdown",
   "id": "50d164c5",
   "metadata": {},
   "source": [
    "Çıktıda görüldüğü üzere, küme içerisinde birden fazla aynı elemandan bulunmaktadır. Ve çıktıda sadece 1 kere o eleman yazılmıştır. Yani set ile elemanlar tekilleştirilir."
   ]
  },
  {
   "cell_type": "code",
   "execution_count": 17,
   "id": "51479766",
   "metadata": {},
   "outputs": [
    {
     "name": "stdout",
     "output_type": "stream",
     "text": [
      "True\n",
      "False\n"
     ]
    },
    {
     "data": {
      "text/plain": [
       "bool"
      ]
     },
     "execution_count": 17,
     "metadata": {},
     "output_type": "execute_result"
    }
   ],
   "source": [
    "#boolean:\n",
    "dogru = True\n",
    "yanlis = False\n",
    "print(dogru)\n",
    "print(yanlis)\n",
    "type(dogru)"
   ]
  },
  {
   "cell_type": "markdown",
   "id": "384dc88f",
   "metadata": {},
   "source": [
    "## Yorum Satırı\n",
    "\n",
    "Interpreter tarafından çalıştırılması istenmeyen, kod hakkında not tutmak amacı ile yazılmak istenenler yorum satırı altında yazılabilir.\n",
    "\n",
    "Tek bir satır yazılacak ise # sembolü kullanılır.\n",
    "\n",
    "Çok satırlı yorum yazmak için \"\"\"yorum buraya yazılır\"\"\" kullanılır."
   ]
  },
  {
   "cell_type": "markdown",
   "id": "d055f78c",
   "metadata": {},
   "source": [
    "## Numerik Operasyonlar"
   ]
  },
  {
   "cell_type": "code",
   "execution_count": 8,
   "id": "30c8b744",
   "metadata": {},
   "outputs": [
    {
     "name": "stdout",
     "output_type": "stream",
     "text": [
      "130\n",
      "-50\n",
      "3600\n",
      "0.4444444444444444\n",
      "40\n",
      "1532495540865888858358347027150309183618739122183602176000000000000000000000000000000000000000000000000000000000000000000000000000000000000000000\n",
      "2\n"
     ]
    }
   ],
   "source": [
    "a=40\n",
    "b=90\n",
    "\n",
    "print(a+b)\n",
    "print(a-b)\n",
    "print(a*b)\n",
    "print(a/b)\n",
    "print(a%b)\n",
    "print(a**b)\n",
    "print(b//a)"
   ]
  },
  {
   "cell_type": "markdown",
   "id": "3235cf18",
   "metadata": {},
   "source": [
    "## Öncelik Sırası\n",
    "\n",
    "Parantez, Üstel, Bölme, Çarpma, Toplama, Çıkarma"
   ]
  },
  {
   "cell_type": "code",
   "execution_count": 9,
   "id": "77197f97",
   "metadata": {},
   "outputs": [
    {
     "name": "stdout",
     "output_type": "stream",
     "text": [
      "2.5\n"
     ]
    }
   ],
   "source": [
    "print(2*5-8+3/6)"
   ]
  },
  {
   "cell_type": "markdown",
   "id": "ce2e3e2c",
   "metadata": {},
   "source": [
    "**Stringler ile toplama ve çarpma işlemleri yapılabilir.**"
   ]
  },
  {
   "cell_type": "code",
   "execution_count": 10,
   "id": "51c703c9",
   "metadata": {},
   "outputs": [],
   "source": [
    "str1 = \"hello\"\n",
    "str2 = \"world\""
   ]
  },
  {
   "cell_type": "code",
   "execution_count": 11,
   "id": "7fe0393c",
   "metadata": {},
   "outputs": [
    {
     "data": {
      "text/plain": [
       "'helloworld'"
      ]
     },
     "execution_count": 11,
     "metadata": {},
     "output_type": "execute_result"
    }
   ],
   "source": [
    "str1+str2"
   ]
  },
  {
   "cell_type": "code",
   "execution_count": 12,
   "id": "b9a65bbe",
   "metadata": {},
   "outputs": [
    {
     "data": {
      "text/plain": [
       "'hellohellohello'"
      ]
     },
     "execution_count": 12,
     "metadata": {},
     "output_type": "execute_result"
    }
   ],
   "source": [
    "str1*3 #3 kere yan yana hello yazar."
   ]
  },
  {
   "cell_type": "code",
   "execution_count": 13,
   "id": "2152123f",
   "metadata": {},
   "outputs": [
    {
     "data": {
      "text/plain": [
       "'555555'"
      ]
     },
     "execution_count": 13,
     "metadata": {},
     "output_type": "execute_result"
    }
   ],
   "source": [
    "6 * '5'"
   ]
  },
  {
   "cell_type": "code",
   "execution_count": 14,
   "id": "3499db8d",
   "metadata": {},
   "outputs": [
    {
     "data": {
      "text/plain": [
       "30"
      ]
     },
     "execution_count": 14,
     "metadata": {},
     "output_type": "execute_result"
    }
   ],
   "source": [
    "6 * 5"
   ]
  },
  {
   "cell_type": "markdown",
   "id": "7e9d938b",
   "metadata": {},
   "source": [
    "## Anahtar Kelimeler (Keywords)\n",
    "\n",
    "Python'daki anahtar kelimeler **keyword** paketi içerisinde yer alır."
   ]
  },
  {
   "cell_type": "code",
   "execution_count": 1,
   "id": "68ca96fd",
   "metadata": {},
   "outputs": [],
   "source": [
    "#Öncelikle paket import edilir.\n",
    "import keyword"
   ]
  },
  {
   "cell_type": "code",
   "execution_count": 3,
   "id": "3fde6021",
   "metadata": {},
   "outputs": [
    {
     "name": "stdout",
     "output_type": "stream",
     "text": [
      "['False', 'None', 'True', '__peg_parser__', 'and', 'as', 'assert', 'async', 'await', 'break', 'class', 'continue', 'def', 'del', 'elif', 'else', 'except', 'finally', 'for', 'from', 'global', 'if', 'import', 'in', 'is', 'lambda', 'nonlocal', 'not', 'or', 'pass', 'raise', 'return', 'try', 'while', 'with', 'yield']\n"
     ]
    }
   ],
   "source": [
    "#keyword listesini görüntüleyelim.\n",
    "anahtar_kelimeler = keyword.kwlist\n",
    "print(anahtar_kelimeler)"
   ]
  },
  {
   "cell_type": "markdown",
   "id": "6ffa3f8f",
   "metadata": {},
   "source": [
    "Herhangi bir kelimenin Python için bir keyword olup olmadığını öğrenmek için şu satırı uygualayabiliriz:"
   ]
  },
  {
   "cell_type": "code",
   "execution_count": 4,
   "id": "db3534d7",
   "metadata": {},
   "outputs": [
    {
     "data": {
      "text/plain": [
       "True"
      ]
     },
     "execution_count": 4,
     "metadata": {},
     "output_type": "execute_result"
    }
   ],
   "source": [
    "keyword.iskeyword('not')"
   ]
  },
  {
   "cell_type": "markdown",
   "id": "86e7f869",
   "metadata": {},
   "source": [
    "Yukarıdaki satır ile 'not' kelimesinin keyword olup olmadığı kontrol edilmiştir ve output'tan anlaşılacağı üzere bu kelime bir keyword'dür."
   ]
  }
 ],
 "metadata": {
  "kernelspec": {
   "display_name": "Python 3 (ipykernel)",
   "language": "python",
   "name": "python3"
  },
  "language_info": {
   "codemirror_mode": {
    "name": "ipython",
    "version": 3
   },
   "file_extension": ".py",
   "mimetype": "text/x-python",
   "name": "python",
   "nbconvert_exporter": "python",
   "pygments_lexer": "ipython3",
   "version": "3.9.12"
  }
 },
 "nbformat": 4,
 "nbformat_minor": 5
}
