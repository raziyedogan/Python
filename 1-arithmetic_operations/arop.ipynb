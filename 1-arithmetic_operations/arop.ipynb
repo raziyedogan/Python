{
 "cells": [
  {
   "cell_type": "markdown",
   "id": "732709d0",
   "metadata": {},
   "source": [
    "<font color=\"Chocolate\"><br>\n",
    "**ARİTMETİK İŞLEMLER**"
   ]
  },
  {
   "cell_type": "markdown",
   "id": "f026f43b",
   "metadata": {},
   "source": [
    "**TOPLAMA:** + \n",
    "\n",
    "**ÇIKARMA:** -\n",
    "\n",
    "**ÇARPMA:** *\n",
    "\n",
    "**BÖLME:** /\n",
    "\n",
    "**ÜSTEL:** **\n",
    "\n",
    "**MOD:** %\n",
    "\n",
    "**TAM SAYILI BÖLME:** //\n",
    "\n",
    "Bu işlemleri uygulayalım."
   ]
  },
  {
   "cell_type": "code",
   "execution_count": 1,
   "id": "9c5404d6",
   "metadata": {},
   "outputs": [
    {
     "data": {
      "text/plain": [
       "300"
      ]
     },
     "execution_count": 1,
     "metadata": {},
     "output_type": "execute_result"
    }
   ],
   "source": [
    "100+200"
   ]
  },
  {
   "cell_type": "code",
   "execution_count": 2,
   "id": "bb2a6ffc",
   "metadata": {},
   "outputs": [
    {
     "data": {
      "text/plain": [
       "-100"
      ]
     },
     "execution_count": 2,
     "metadata": {},
     "output_type": "execute_result"
    }
   ],
   "source": [
    "100-200"
   ]
  },
  {
   "cell_type": "code",
   "execution_count": 3,
   "id": "158d74e7",
   "metadata": {},
   "outputs": [
    {
     "data": {
      "text/plain": [
       "48"
      ]
     },
     "execution_count": 3,
     "metadata": {},
     "output_type": "execute_result"
    }
   ],
   "source": [
    "6*8"
   ]
  },
  {
   "cell_type": "code",
   "execution_count": 5,
   "id": "51dc30f4",
   "metadata": {},
   "outputs": [
    {
     "data": {
      "text/plain": [
       "15.0"
      ]
     },
     "execution_count": 5,
     "metadata": {},
     "output_type": "execute_result"
    }
   ],
   "source": [
    "60/4"
   ]
  },
  {
   "cell_type": "markdown",
   "id": "f773237e",
   "metadata": {},
   "source": [
    "Bölme işlemi sonucu default olarak float'tır. Dolayısıyla bölme sonucunda noktalı değer görülmektedir."
   ]
  },
  {
   "cell_type": "code",
   "execution_count": 6,
   "id": "6da53c94",
   "metadata": {},
   "outputs": [
    {
     "data": {
      "text/plain": [
       "36"
      ]
     },
     "execution_count": 6,
     "metadata": {},
     "output_type": "execute_result"
    }
   ],
   "source": [
    "6**2"
   ]
  },
  {
   "cell_type": "code",
   "execution_count": 7,
   "id": "9e410139",
   "metadata": {},
   "outputs": [
    {
     "data": {
      "text/plain": [
       "1"
      ]
     },
     "execution_count": 7,
     "metadata": {},
     "output_type": "execute_result"
    }
   ],
   "source": [
    "26%5"
   ]
  },
  {
   "cell_type": "code",
   "execution_count": 8,
   "id": "a46c397e",
   "metadata": {},
   "outputs": [
    {
     "data": {
      "text/plain": [
       "5"
      ]
     },
     "execution_count": 8,
     "metadata": {},
     "output_type": "execute_result"
    }
   ],
   "source": [
    "28//5"
   ]
  },
  {
   "cell_type": "markdown",
   "id": "2f6987ec",
   "metadata": {},
   "source": [
    "**DEĞERLER VE TİPLER**"
   ]
  },
  {
   "cell_type": "markdown",
   "id": "86c1f6a0",
   "metadata": {},
   "source": [
    "**Değerler:** Değişkenlere atadığımız yapılardır. Programın hafızasında yer tutar.\n",
    "**Tipler:** Değerin formatıdır.\n",
    "\n",
    "**type() Metodu:** Bu metod ile değerin tipine erişilir. "
   ]
  },
  {
   "cell_type": "code",
   "execution_count": 9,
   "id": "26989b2e",
   "metadata": {},
   "outputs": [
    {
     "data": {
      "text/plain": [
       "str"
      ]
     },
     "execution_count": 9,
     "metadata": {},
     "output_type": "execute_result"
    }
   ],
   "source": [
    "type(\"hello world\")"
   ]
  },
  {
   "cell_type": "markdown",
   "id": "bd265ed8",
   "metadata": {},
   "source": [
    "str:string. \"hello world\" ifadesinin string tipinde olduğunu type() metodu ile elde ettik."
   ]
  },
  {
   "cell_type": "code",
   "execution_count": 10,
   "id": "a0a825c9",
   "metadata": {},
   "outputs": [
    {
     "data": {
      "text/plain": [
       "float"
      ]
     },
     "execution_count": 10,
     "metadata": {},
     "output_type": "execute_result"
    }
   ],
   "source": [
    "type(5.6)"
   ]
  },
  {
   "cell_type": "code",
   "execution_count": 11,
   "id": "0fda262d",
   "metadata": {},
   "outputs": [
    {
     "data": {
      "text/plain": [
       "int"
      ]
     },
     "execution_count": 11,
     "metadata": {},
     "output_type": "execute_result"
    }
   ],
   "source": [
    "type(6)"
   ]
  },
  {
   "cell_type": "code",
   "execution_count": 13,
   "id": "07f7c369",
   "metadata": {},
   "outputs": [
    {
     "name": "stdout",
     "output_type": "stream",
     "text": [
      "3.4548954899458 değerinin veri tipi: <class 'float'>\n"
     ]
    }
   ],
   "source": [
    "print(\"3.4548954899458 değerinin veri tipi:\",type(3.4548954899458))"
   ]
  },
  {
   "cell_type": "markdown",
   "id": "1f83a40b",
   "metadata": {},
   "source": [
    "**ALIŞTIRMALAR**"
   ]
  },
  {
   "cell_type": "markdown",
   "id": "9503c3a1",
   "metadata": {},
   "source": [
    "24 dakika 36 saniye içinde toplam kaç adet saniye bulunur?"
   ]
  },
  {
   "cell_type": "code",
   "execution_count": 14,
   "id": "1377fa66",
   "metadata": {},
   "outputs": [
    {
     "data": {
      "text/plain": [
       "1476"
      ]
     },
     "execution_count": 14,
     "metadata": {},
     "output_type": "execute_result"
    }
   ],
   "source": [
    "24*60+36"
   ]
  },
  {
   "cell_type": "markdown",
   "id": "63a55692",
   "metadata": {},
   "source": [
    "Saatte ortalama 80 km hızla giden bir araç, İstanbul'dan Ankara'ya kaç dakikada gider. İstanbul, Ankara arası mesafe 450 km dir."
   ]
  },
  {
   "cell_type": "code",
   "execution_count": 16,
   "id": "fd1494d7",
   "metadata": {},
   "outputs": [
    {
     "data": {
      "text/plain": [
       "337.5"
      ]
     },
     "execution_count": 16,
     "metadata": {},
     "output_type": "execute_result"
    }
   ],
   "source": [
    "(450/80)*60 #Dakika türünden istendiği için 60 ile çarpılmıştır."
   ]
  },
  {
   "cell_type": "markdown",
   "id": "9d1df1a2",
   "metadata": {},
   "source": [
    "2'nin 14. kuvveti kaçtır?"
   ]
  },
  {
   "cell_type": "code",
   "execution_count": 17,
   "id": "44e699f2",
   "metadata": {},
   "outputs": [
    {
     "data": {
      "text/plain": [
       "16384"
      ]
     },
     "execution_count": 17,
     "metadata": {},
     "output_type": "execute_result"
    }
   ],
   "source": [
    "2**14"
   ]
  },
  {
   "cell_type": "markdown",
   "id": "6fab89e2",
   "metadata": {},
   "source": [
    "Ekrana 15 sayısının tipini yazınız."
   ]
  },
  {
   "cell_type": "code",
   "execution_count": 18,
   "id": "129b8d61",
   "metadata": {},
   "outputs": [
    {
     "name": "stdout",
     "output_type": "stream",
     "text": [
      "<class 'int'>\n"
     ]
    }
   ],
   "source": [
    "print(type(15))"
   ]
  },
  {
   "cell_type": "markdown",
   "id": "1dbdaa45",
   "metadata": {},
   "source": [
    "Ekrana \"Selam Python\" ifadesinin tipini yazınız."
   ]
  },
  {
   "cell_type": "code",
   "execution_count": 19,
   "id": "9cd9303e",
   "metadata": {},
   "outputs": [
    {
     "name": "stdout",
     "output_type": "stream",
     "text": [
      "Selam Python\n"
     ]
    }
   ],
   "source": [
    "print(\"Selam Python\")"
   ]
  },
  {
   "cell_type": "markdown",
   "id": "0f825651",
   "metadata": {},
   "source": [
    "Ekrana \"15\" ifadesinin tipini yazınız."
   ]
  },
  {
   "cell_type": "code",
   "execution_count": 20,
   "id": "c2be0b41",
   "metadata": {},
   "outputs": [
    {
     "name": "stdout",
     "output_type": "stream",
     "text": [
      "<class 'str'>\n"
     ]
    }
   ],
   "source": [
    "print(type(\"15\"))"
   ]
  },
  {
   "cell_type": "markdown",
   "id": "86a75e7d",
   "metadata": {},
   "source": [
    "49 sayısının 5 e bölümünden kalan kaçtır?"
   ]
  },
  {
   "cell_type": "code",
   "execution_count": 21,
   "id": "ec299dd5",
   "metadata": {},
   "outputs": [
    {
     "data": {
      "text/plain": [
       "4"
      ]
     },
     "execution_count": 21,
     "metadata": {},
     "output_type": "execute_result"
    }
   ],
   "source": [
    "49%5"
   ]
  },
  {
   "cell_type": "markdown",
   "id": "eefe380a",
   "metadata": {},
   "source": [
    "49 sayısının 5'e tam bölümü kaçtır (taban bölüm)?"
   ]
  },
  {
   "cell_type": "code",
   "execution_count": 22,
   "id": "e2e4b02a",
   "metadata": {},
   "outputs": [
    {
     "data": {
      "text/plain": [
       "9"
      ]
     },
     "execution_count": 22,
     "metadata": {},
     "output_type": "execute_result"
    }
   ],
   "source": [
    "49//5"
   ]
  },
  {
   "cell_type": "markdown",
   "id": "60c1ebb0",
   "metadata": {},
   "source": [
    "1'den 5'e kadar olan sayıların kareleri toplamının ortalaması kaçtır?"
   ]
  },
  {
   "cell_type": "code",
   "execution_count": 25,
   "id": "fac3ad68",
   "metadata": {},
   "outputs": [
    {
     "name": "stdout",
     "output_type": "stream",
     "text": [
      "result: 11.0\n"
     ]
    }
   ],
   "source": [
    "sum=0\n",
    "for x in range(1,6):\n",
    "    sum+=x**2\n",
    "print(\"result:\",sum/5)"
   ]
  },
  {
   "cell_type": "markdown",
   "id": "8677baba",
   "metadata": {},
   "source": [
    "Karesi, 4'ün küpünden 17 fazla olan sayı kaçtır?"
   ]
  },
  {
   "cell_type": "code",
   "execution_count": 30,
   "id": "15dec233",
   "metadata": {},
   "outputs": [
    {
     "name": "stdout",
     "output_type": "stream",
     "text": [
      "result: 9\n"
     ]
    }
   ],
   "source": [
    "for x in range(1,1000):\n",
    "    if x**2 == 4**3+17:\n",
    "        print(\"result:\",x)\n",
    "        break"
   ]
  },
  {
   "cell_type": "code",
   "execution_count": 32,
   "id": "7f537ef0",
   "metadata": {},
   "outputs": [
    {
     "data": {
      "text/plain": [
       "9.0"
      ]
     },
     "execution_count": 32,
     "metadata": {},
     "output_type": "execute_result"
    }
   ],
   "source": [
    "#Bir diğer çözüm:\n",
    "# 𝑥**2 = 4**3+17\n",
    "# x değeri elde edilmeye çalışıldığı için her iki tarafın karekökü alınır.\n",
    "(4**3+17)**(1/2)"
   ]
  }
 ],
 "metadata": {
  "kernelspec": {
   "display_name": "Python 3 (ipykernel)",
   "language": "python",
   "name": "python3"
  },
  "language_info": {
   "codemirror_mode": {
    "name": "ipython",
    "version": 3
   },
   "file_extension": ".py",
   "mimetype": "text/x-python",
   "name": "python",
   "nbconvert_exporter": "python",
   "pygments_lexer": "ipython3",
   "version": "3.9.12"
  }
 },
 "nbformat": 4,
 "nbformat_minor": 5
}
